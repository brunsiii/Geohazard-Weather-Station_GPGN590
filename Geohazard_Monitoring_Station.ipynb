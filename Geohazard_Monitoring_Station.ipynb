{
  "nbformat": 4,
  "nbformat_minor": 0,
  "metadata": {
    "colab": {
      "provenance": [],
      "authorship_tag": "ABX9TyNPtylNFDRBk8NEloRiRzp/",
      "include_colab_link": true
    },
    "kernelspec": {
      "name": "python3",
      "display_name": "Python 3"
    },
    "language_info": {
      "name": "python"
    }
  },
  "cells": [
    {
      "cell_type": "markdown",
      "metadata": {
        "id": "view-in-github",
        "colab_type": "text"
      },
      "source": [
        "<a href=\"https://colab.research.google.com/github/brunsiii/Geohazard-Weather-Station_GPGN590/blob/main/Geohazard_Monitoring_Station.ipynb\" target=\"_parent\"><img src=\"https://colab.research.google.com/assets/colab-badge.svg\" alt=\"Open In Colab\"/></a>"
      ]
    },
    {
      "cell_type": "code",
      "execution_count": null,
      "metadata": {
        "id": "VEmvm8ENlcbm"
      },
      "outputs": [],
      "source": []
    },
    {
      "cell_type": "markdown",
      "source": [
        "# Geohazard Monitoring Station: A Multi-Parameter Weather and Stability Analysis System using Arduino Microcontrollers\n",
        "\n",
        "#### Alex Brunson, Levi Cass, Emily Cecchini"
      ],
      "metadata": {
        "id": "ixCitX55leDO"
      }
    },
    {
      "cell_type": "markdown",
      "source": [
        "<h2><center>Abstract</center></h2>\n",
        "Geologic hazards, such as landslides or avalanches, pose significant risks to communities, infrastructure, and ecosystems. Understanding the factors that influence these events is crucial for effective risk management and mitigation strategies. This project aims to develop a cost-effective weather station situated on a slow-moving landslide, utilizing low-cost instrumentation such as Arduino microcontrollers. The system will monitor key environmental parameters, including temperature, humidity, soil moisture, and movement patterns, which are essential for assessing landslide stability. By leveraging open-source technologies, we aim to provide an accessible solution that enables real-time data collection and analysis, fostering greater awareness of landslide behavior. The gathered data will enhance predictive models, support research efforts, and ultimately contribute to the development of early warning systems, thereby improving safety and preparedness in vulnerable regions. Through this project, we aim to demonstrate that innovative, low-cost solutions can play a vital role in addressing natural hazards and enhancing community resilience.\n"
      ],
      "metadata": {
        "id": "SeoXH8BZlyGw"
      }
    },
    {
      "cell_type": "markdown",
      "source": [
        "<h2> Introduction </h2>\n",
        "Geohazards pose a danger to local ecosystems and communities, and without proper warning or detection, these hazards can prove to be devastating for unprepared areas. Landslides and avalanches, however, do have indications of land movement prior to failure (Muenchow et al., 2012). Things such as movement, rainfall, and soil humidity are indicators of a future landslide. For avalanches, things like snowpack, snowfall, and rapid temperature fluctuations are good indicators. In rural or remote settings, it is often difficult to have comprehensive, state of the art early warning systems such as ones monitored by the USGS with several monitoring stations and sensors, therefore these areas are more at risk of being unprepared for such events. Using low-cost instrumentation and data monitoring with Arduino microcontrollers and sensors, this project aims to close this gap. Additionally, there has been emphasis in recent years for early warning systems to be designed for local use to predict short-term behavior of individual slopes, opening a need for an instrument such as ours (Guzzetti et al., 2020).  \n",
        "\n",
        "Our design utilizes an Arduino MEGA2560 board to connect several sensors that are useful in early warning systems. Our design will have two stations, a base station and a “rover” that will sit on the slope to detect movement and direction, as well as temperature and humidity data to provide weather data that might show conditions that impact land movement. A case study we will use for implementation is the Slumgullion earthflow in the San Juan Mountains of Colorado. Slumgullion has been identified and monitored since the 1990s by the USGS to use it as a comprehensive study of landslide processes since it has been moving continuously for hundreds of years (The Slumgullion Earth Flow, 1996). We believe that since it is being studied in this way already, it would be a great case study for a different type of monitoring system. In this paper, we will go over the overall design of our instrument, the build and code details, and any future design work or implications that are revealed after testing.  "
      ],
      "metadata": {
        "id": "mxb6nMjAnUks"
      }
    },
    {
      "cell_type": "markdown",
      "source": [
        "<h2> Overall Implementation & Design</h2>\n",
        "<h3> Designing Two Stations</h3>\n",
        "The hardware for this project is based off projects done during class that expanded our knowledge of what the Arduino systems can do. We have combined several relevant in class assignments to create a robust detection system. The rover station will be placed at a point along the slope that is deemed optimal for detecting movement, and the base station will be placed alongside the slope at an area that is not detecting movement. We chose to design two stations for a couple reasons. One is that it is easier to access the base station for the data collection, as it will not be along the slope that is moving. Another is that the positions of the rover station relative to the base is a data point in itself. For data that is made for remote areas, a full analysis of movement may not be possible, but visual inspection of the two stations can be the first step at determining slope movement. A third reason is that we are able to put different monitors on the two stations. The base station can collect more stable data, and the rover can collect variable data, so as to not overload one station and lower cost of buying multiple sensors for each station.\n",
        "\n",
        "<h3> Components </h3>\n",
        "For both stations there needs to be a GPS detection system to detect location and subsequent movement. For this we used the BN-880 GPS module that connects to existing satellites to provide GPS latitude and longitude, and magnetometer data. These modules are connected directly into the Arduino board via jumper cables and a breadboard. Next, we need to include our weather monitoring, for this we used a BME 886 Temperature/Pressure/Humidity Sensor to detect temperature, humidity, and pressure, all indicators of precipitation. This goes only onto the base station as it is the most stable. Lastly, we need stations to communicate with each other and give the user access to the data. Xbee modules were used to have each station talk to each other and have the movement of the rover station communicated to the base station. Once this is communicated and any movement is calculated, the data is then printed via the XBee to an SD card. To protect the module from weather and other elements, we 3D printed a casing for the rover module.  "
      ],
      "metadata": {
        "id": "0nEcRjo0nizC"
      }
    },
    {
      "cell_type": "markdown",
      "source": [
        "<h2> Quality Control </h2>\n",
        "<h3> Safety </h3>\n",
        "There are no relevant safety considerations in the operation of the prototype in a lab environment. However, in use, one could be in an unstable environment such as a creeping slope, or in extreme weather conditions. The base station should be placed in a zone that is not in danger of being impacted by a slope failure, and reachable through all weather conditions. The rover station will be placed on a potentially unstable point on the slope, so it is important to use caution during deployment. A remote-controlled vehicle or drone could be used to place the rover station at the desired location, without the user having to put themselves at risk.\n",
        "\n",
        "<h3> Calibration </h3>\n",
        "<h4> Validation </h4>\n",
        "This prototype uses several sensors that all need to be validated and calibrated. The first being the BN-880 GPS module that connects to external satellites to acquire GPS data. Through testing of this module, a connecting period of at least two hours needs to be built into the set-up process to allow the module time to connect to the satellites in the area. Once the module is connected, it will produce the GPS data via latitude and longitude until the module is shut off or disconnected. This connection timeframe will need to be implemented before each data collection period. All the sensor's precision can be amended by the user, allowing the user to determine the precision needed for measurement.  \n",
        "\n",
        "For the temperature, humidity, pressure, and gas sensing we used the BME688 sensor. Units can be scaled and converted in the .ino code files prior to XBee transmission.  ....***\n",
        "\n",
        "** NEEDS FINISHING? **\n",
        "\n",
        "<h3> General Testing </h3>\n",
        "** NEEDS FINISHING? **"
      ],
      "metadata": {
        "id": "Rp4AAluenis5"
      }
    },
    {
      "cell_type": "markdown",
      "source": [
        "<h2> Application </h2>\n",
        "Geologic hazards such as landslides and avalanches are among the most devastating natural disasters, causing loss of life, infrastructure damage, and ecosystem disruption. In regions prone to such hazards, monitoring environmental changes that may signal an impending event is crucial for risk management and mitigation. Factors such as soil moisture, temperature, and atmospheric conditions significantly influence these events, underscoring the need for real-time monitoring systems.\n",
        "\n",
        "Technological advancements have made monitoring geologic hazards more accessible and affordable. Traditional systems, such as satellite-based monitoring and geodetic networks, provide valuable data but are often expensive and challenging to implement in remote areas. In contrast, low-cost, real-time systems like those utilizing Arduino microcontrollers offer a promising alternative, especially for regions with limited resources. These systems can be deployed to monitor landslide-prone areas, collecting critical data that can inform early warning systems and improve community preparedness.\n",
        "\n",
        "<h3> Prior Works: </h3>\n",
        "To highlight the significance of such technologies, Guzzetti et al. (2020) discuss the importance of geographical landslide early warning systems that leverage real-time data to improve predictive accuracy. Further, Muenchow et al. (2012) underscore the variability in environmental conditions across regions, illustrating the necessity of tailored monitoring solutions in landslide-prone areas. By utilizing low-cost GPS and Arduino-based systems, projects like those conducted by Benoit et al. (2015) have demonstrated the feasibility of deploying cost-effective technologies for hazard monitoring in resource-limited regions. This foundation sets the stage for the present project, which seeks to advance similar low-cost approaches in geologic hazard monitoring.\n",
        "\n",
        "<h3> Role in Hazard Monitoring: </h3>\n",
        "This project aims to develop a cost-effective weather station to monitor environmental parameters in a slow-moving landslide zone. By leveraging low-cost Arduino microcontrollers, the system will gather data on temperature, humidity, soil moisture, and ground movement, providing real-time insights into landslide stability. Using open-source technologies makes this project accessible and scalable, ensuring that communities vulnerable to geologic hazards can benefit from real-time data collection without incurring high costs.\n",
        "\n",
        "The hardware components include Arduino microcontrollers, the central processing unit, and sensors to measure soil moisture, temperature, and humidity. These environmental factors are critical in assessing the risk of landslides, as changes in soil saturation and atmospheric conditions often precede slope failure. Wireless communication modules, such as X-Bee Bluetooth transmitters, enable the system to send data to a remote monitoring station, which can be analyzed to detect early warning signs of potential landslides.\n",
        "\n",
        "Guerriero et al. (2017) demonstrated the effectiveness of an Arduino-based extensometer in monitoring earth flows, reinforcing the viability of using similar microcontrollers in this project. Furthermore, Purnomo et al. (2019) developed a landslide early warning system based on Arduino, using soil movement and humidity sensors. This case study provides a compelling model for how Arduino technology can be successfully applied in landslide monitoring, proving that affordable and scalable solutions can contribute significantly to hazard preparedness.\n",
        "\n",
        "The open-source nature of this project ensures that it can be replicated and adapted in other regions facing similar geologic hazards. By making the hardware and software freely accessible, the project aligns with the broader goals of fostering community resilience and improving early warning systems for natural hazards."
      ],
      "metadata": {
        "id": "EvxwqbPrnilK"
      }
    },
    {
      "cell_type": "markdown",
      "source": [
        "<h3> Use Cases </h3>\n",
        "<h4> Use Case: Monitoring a Slow-Moving Landslide</h4>\n",
        "The system will be deployed in a slow-moving landslide zone to monitor real-time environmental changes that influence slope stability. By continuously collecting data on temperature, humidity, soil moisture, and ground movement, the system provides a comprehensive view of the conditions that could lead to a landslide. This data will be analyzed to detect early warning signs, such as increasing soil moisture or subtle shifts in ground movement, which often precede slope failure. Early detection of these signs allows for timely interventions, enabling communities to implement preventive measures, such as evacuation or infrastructure reinforcement before a disaster occurs.\n",
        "\n",
        "Benoit et al. (2015) have demonstrated the value of such real-time, low-cost monitoring systems. They successfully used GPS-based systems to track landslide displacements at a fraction of the cost of traditional methods. This project aims to reinforce the effectiveness of using affordable technologies for landslide risk assessment by comparing the data collected by this system to those from similar studies. The system’s ability to gather data continuously in real-time ensures it can provide critical, actionable insights that improve predictive models and early warning systems.\n",
        "\n",
        "In terms of its broader application, the effectiveness of this low-cost monitoring system is underscored by its potential to be deployed in various geophysical settings. For instance, Muenchow et al. (2012) explored how low-cost technologies could be adapted to different environmental conditions, such as monitoring landslides across humidity gradients. This demonstrates that the approach used in this project is cost-effective and versatile. By leveraging readily available and inexpensive components, the system can be adapted to monitor other geologic hazards or be scaled for use in diverse environmental settings, providing critical data for communities vulnerable to landslides and similar natural disasters.\n",
        "\n",
        "<h4> Use Case: Landslide Early Warning System Using Arduino with Soil Movement and Humidity Sensors </h4>\n",
        "In 2019, Purnomo et al. developed an Arduino-based landslide early warning system, which became a benchmark for low-cost, accessible environmental monitoring solutions. This system was designed to monitor critical environmental factors like soil movement and humidity, which are key indicators of potential landslide activity. The project addressed the growing need for affordable solutions in hazard-prone regions by utilizing open-source technology and low-cost components.\n",
        "<h4> System Design & Components </h4>\n",
        "The system employed an Arduino microcontroller as the central unit, equipped with soil movement and humidity sensors. These sensors collected real-time data from the surrounding environment and transmitted it to a central monitoring station. Purnomo et al. demonstrated that soil moisture and movement patterns could serve as reliable precursors to landslide events, as changes in these parameters often preceded slope failure.\n",
        "\n",
        "- **Soil Movement Sensors**: Accelerometers detected slight shifts in the soil's position, enabling the system to monitor ground stability continuously.\n",
        "- **Humidity Sensors**: The humidity sensors measured the moisture content in the soil, a critical factor since saturation can reduce soil cohesion, leading to increased landslide risk.\n",
        "\n",
        "<h4> Data Collection and Warning System</h4>\n",
        "\n",
        "The Arduino microcontroller processed the real-time data collected by the sensors, which triggered alerts when specific thresholds were reached. For example, when the soil moisture exceeded a critical level or significant ground movement was detected, the system issued a warning via a simple alert mechanism, such as a buzzer or SMS. This allowed local authorities or community members to take preventive measures before a landslide occurred, such as evacuating vulnerable areas or reinforcing structures.\n",
        "\n",
        "<h4> Field Testing and Results </h4>\n",
        "\n",
        "Field tests conducted by Purnomo et al. proved the system's effectiveness in monitoring soil movement and moisture content in a landslide-prone area. During the rainy season, the system detected moisture buildup and minor ground shifts, which correlated with observed landslide activity in the region. The results demonstrated that low-cost solutions like this Arduino-based system could provide valuable early warnings even in remote or resource-limited areas.\n",
        "\n",
        "<h4> Scalability and Future Applications </h4>\n",
        "\n",
        "One of the most significant aspects of this project was its scalability. Since the components were readily available and inexpensive, the system could be replicated in other regions facing similar geologic hazards. The density of sensing networks could be scaled rather easily using multiple base stations and rover stations within an XBee network. Purnomo et al. emphasized the importance of integrating open-source technologies, ensuring that other researchers or communities could adapt and improve the system. This aligns closely with our project’s goal of fostering community resilience through accessible, real-time data collection and analysis.\n",
        "\n",
        "<h4> Relevance to the Current Project </h4>\n",
        "This case study illustrates the practical benefits of using Arduino-based technologies in geologic hazard monitoring. Our project, which aims to develop a cost-effective weather station for landslide monitoring, shares similar objectives. By referencing the success of Purnomo et al.’s system, you can build a strong case for the scalability and utility of our project. Both systems leverage simple, affordable technologies to monitor critical environmental factors, such as soil moisture and movement, providing real-time data that can improve predictive models and contribute to early warning systems."
      ],
      "metadata": {
        "id": "9FKe2hG_nibu"
      }
    },
    {
      "cell_type": "markdown",
      "source": [
        "<h2> Build Details</h2>\n",
        "<h3> Availability of Materials and Methods </h3>\n",
        "\n",
        "The weather station uses low-cost, commercially available components to ensure accessibility and replicability. The critical materials used in the system include Arduino microcontrollers, sensors for temperature, humidity, soil moisture, and movement, and wireless communication modules such as X-Bee Bluetooth transmitters. Each component was selected based on affordability, reliability, and compatibility with open-source platforms, ensuring that other researchers or communities in similar geologically hazardous areas can quickly adapt to the system.\n",
        "\n",
        "<h3> Selection of Sensors and Hardware </h3>\n",
        "\n",
        "The system integrates soil moisture, temperature, and humidity sensors to assess environmental conditions that influence landslide movement. Arduino microcontrollers act as the central data processing unit, with wireless communication modules enabling real-time data transmission.  Refer to Purnomo et al. (2019) for similar sensor systems that were deployed in landslide-prone regions. Guerriero et al. (2017) can also be used to highlight the use of Arduino microcontrollers in low-cost monitoring. In this project, we will be using the following sensors and hardware:\n",
        "- **Arduino Microcontroller**: The central processing unit for the system, selected for its open-source compatibility and affordability.\n",
        "- **Temperature and Humidity Sensors**: Provide atmospheric data, which can influence soil conditions and landslide risks.\n",
        "- **Movement Sensor (Accelerometer)**: Detects subtle movements in the ground, indicating potential slope failure early.\n",
        "\n",
        "The combination of sensors ensures comprehensive environmental monitoring, offering valuable data on the factors influencing landslide behavior.  \n",
        "\n",
        "Purnomo et al. (2019) developed a similar system using Arduino microcontrollers and soil movement and humidity sensors to monitor landslides. Their success in applying these components in a real-world context validates the hardware choices made for this project. Guerriero et al. (2017) also used Arduino to monitor earth flows, reinforcing the reliability of this microcontroller in geophysical applications.\n",
        "\n",
        "<h3> Ease of Build </h3>\n",
        "\n",
        "The design prioritizes simplicity and ease of assembly, allowing non-specialists to replicate the system. This project minimizes costs and technical challenges by reducing the number of components and ensuring that all hardware is readily available. Arduino microcontrollers, widely supported by open-source platforms, ensure the system is user-friendly and easy to program.\n",
        "\n",
        "<h3> Design Decisions </h3>\n",
        "\n",
        "The system’s design decisions were made to optimize scalability, ensuring the project can be deployed in multiple regions with minimal modification. Guerriero et al. (2017) emphasized the importance of “ease of build” in their Arduino-based extensometer system, designed to be easily replicated by other researchers. Purnomo et al. (2019) also noted that simplicity in design is critical for systems deployed in remote or resource-limited areas, further supporting the design choices in this project.\n",
        "\n",
        "<h4> Modular Design </h4>\n",
        "\n",
        "Each sensor operates as a modular component, allowing for easy replacement or upgrades. This approach also simplifies troubleshooting, as individual parts can be tested and replaced without disassembling the entire system.\n",
        "\n",
        "<h4> Wireless Data Transmission (Bluetooth)</h4>\n",
        "\n",
        "X-Bee modules allow the system to send data to a remote server in real-time, reducing the need for physical data collection and enhancing safety for those monitoring hazardous areas. The topology of the rover network can be designed in a variety of ways within a 1-mile radius, avoiding potential consequences of a single rover malfunctioning. The current design implements one base station with multiple rovers on a slope, allowing data to be transmitted via XBee from rover to base station and saved to an SD card at the base station. If one rover were to malfunction and drop out of the network, all other rovers would still have a clear line of communication to the base station.\n",
        "\n",
        "<h3> Operating Software and Peripherals </h3>\n",
        "\n",
        "The system relies on Arduino-compatible software to process sensor data and trigger warnings when environmental parameters exceed preset thresholds. The software is designed to be lightweight and efficient, ensuring it can run on low-power hardware. Arduino IDE is used for programming, allowing users to customize the system’s functionality based on their needs.\n",
        "\n",
        "- **Minimum Software Version**: The system is compatible with Arduino IDE version 1.8.13 or higher, ensuring it can run on most modern devices.\n",
        "- **XCTU**: This software intializes the networking settings and topology of the XBee network. When an XBee antenna is initialized, its networking and communication settings are saved locally so that when they are added to a board, say an arduino with environmental sensing instrumentation connected, this data can be transmitted from rover to base station. This network should only have to be initialized once before deployment.\n",
        "- **Data Processing**: The software collects data from each sensor and performs basic calculations to determine if the system needs to trigger an alert. For example, if soil moisture levels exceed a critical threshold, the system sends a warning to local authorities via SMS or email, using the X-Bee modules for wireless communication.  \n",
        "\n",
        "<h4> Software Integration and Data Processing </h4>\n",
        "\n",
        "Wang et al. (2022) demonstrated how wireless real-time continuous monitoring systems could be integrated into sensor networks for geophysical monitoring. Their use of sensor networks aligns with the wireless communication setup employed in this project, showcasing the feasibility of using similar software and hardware configurations for monitoring environmental hazards.\n",
        "\n"
      ],
      "metadata": {
        "id": "1coX3yVDnhe2"
      }
    },
    {
      "cell_type": "markdown",
      "source": [
        "<h2> Dependencies </h2>\n",
        "\n",
        "The system relies on Arduino-compatible software to process sensor data and trigger warnings when environmental parameters exceed preset thresholds. The software is designed to be lightweight and efficient, ensuring it can run on low-power hardware. Arduino IDE is used for programming, allowing users to customize the system’s functionality based on their needs.\n",
        "\n",
        "This system has a few critical dependencies, including hardware and software components. It relies on Arduino-compatible libraries for sensor integration and data processing. The wireless communication modules also require X-Bee drivers, which must be compatible with the Arduino microcontroller and must be initialized using XCTU software prior to deployment.\n",
        "\n",
        "- **Arduino Libraries**: The system depends on libraries such as the DHT library for temperature and humidity sensors and the Soil Moisture Sensor library for monitoring soil conditions.\n",
        "- **X-Bee Modules**: The wireless data transmission depends on X-Bee modules, which require specific drivers to communicate with the Arduino microcontroller.\n",
        "- **XCTU**: Wireless transmission also relies on this software to initialize base and rover antennas within the XBee network.\n",
        "- **Attachments:**\n",
        "\n",
        "  - **Initialization:**\n",
        "\n",
        "These dependencies are easily manageable through open-source resources, ensuring the system can be deployed and maintained without proprietary software or hardware.\n",
        "\n",
        "The DroneBot Workshop (2021) provides detailed guidance on using GPS modules with Arduino, highlighting how such open-source components can be seamlessly integrated into monitoring systems. Similarly, Codebender_cc (2024) offers insights into using X-Bee modules as transmitters and receivers, further reinforcing the reliability and ease of combining these wireless components into an Arduino-based system."
      ],
      "metadata": {
        "id": "Z_CBxV-KxQm8"
      }
    },
    {
      "cell_type": "markdown",
      "source": [
        "<h2> Hardware Documentation, Build Instruction </h2>\n",
        "\n",
        "To ensure transparency and replicability, complete documentation of the hardware and build instructions will be made publicly available through open-source platforms. These instructions will include:\n",
        "\n",
        "Bill of Materials (BOM): A detailed list of all components required to build the system and links to suppliers.\n",
        "\n",
        "Assembly Instructions: Step-by-step guidance on assembling the hardware, including wiring diagrams and sensor placement.\n",
        "\n",
        "Software Code: The Arduino code required to run the system, complete with comments to facilitate customization.\n",
        "\n",
        "File Locations: All documentation, software, and additional resources will be available on an open-source repository like GitHub.\n",
        "\n",
        "The project ensures that other researchers or community groups can easily replicate or adapt the system for their specific needs by providing comprehensive documentation.\n",
        "\n",
        "GPS HARDWARE\n",
        "\n",
        "Workshop, DroneBot. 2021. “Using GPS Modules with Arduino & Raspberry Pi.” DroneBot Workshop. https://dronebotworkshop.com/using-gps-modules/ (October 23, 2024).\n",
        "\n",
        "X-Bee Bluetooth\n",
        "\n",
        "codebender_cc. “How to Use XBee Modules As Transmitter & Receiver - Arduino Tutorial.” Instructables. https://www.instructables.com/How-to-Use-XBee-Modules-As-Transmitter-Receiver-Ar/ (October 23, 2024)."
      ],
      "metadata": {
        "id": "fmqQS_etxjZK"
      }
    },
    {
      "cell_type": "code",
      "source": [],
      "metadata": {
        "id": "48MGxOnpzGU8"
      },
      "execution_count": null,
      "outputs": []
    }
  ]
}
